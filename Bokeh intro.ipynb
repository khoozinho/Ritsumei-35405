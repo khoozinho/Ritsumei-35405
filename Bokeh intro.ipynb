{
 "cells": [
  {
   "cell_type": "markdown",
   "id": "8622d9fe",
   "metadata": {},
   "source": [
    "# Introduction to interactive visualizations with Bokeh"
   ]
  },
  {
   "cell_type": "code",
   "execution_count": 17,
   "id": "0178ac6e",
   "metadata": {},
   "outputs": [],
   "source": [
    "#remember that you can import only what you will need from a library/package\n",
    "from bokeh.plotting import figure, output_file, show \n",
    "import numpy as np\n",
    "import pandas as pd"
   ]
  },
  {
   "cell_type": "code",
   "execution_count": 18,
   "id": "3c26bbc7",
   "metadata": {},
   "outputs": [],
   "source": [
    "line_graph = figure(title=\"Line graph\") #using the imported figure function (bokeh.plotting.figure)\n",
    " \n",
    "x = [1,2,3,4,5]\n",
    "y = [2,4,8,10,12]\n",
    " \n",
    "line_graph.line(x, x, legend_label=\"Line 1\") #first line\n",
    "line_graph.line(y, x, legend_label=\"Line 2\", line_color=\"green\") #second line, but changing the color\n",
    " \n",
    "line_graph.legend.title = \"Title of the legend\" \n",
    "line_graph.legend.location =\"bottom_right\" #specifying the location of the legend\n",
    " \n",
    "show(line_graph) #using the imported show(), the graph should pop up in a new window in your browser"
   ]
  },
  {
   "cell_type": "code",
   "execution_count": 19,
   "id": "2c99bab2",
   "metadata": {},
   "outputs": [],
   "source": [
    "bar_graph = figure(title = \"Bar graph\") #same sintax as before\n",
    "\n",
    "x = np.array([1,2,3,4,5]) \n",
    "y = np.array([1.5,6,3,1.3,1.4]) #inputs don't have to be lists, you can use arrays as well\n",
    "\n",
    " \n",
    "our_width = 0.75 #defining the bar thickness in a variable  \n",
    "bar_graph.vbar(x, top = y, width = our_width)\n",
    " \n",
    "show(bar_graph)"
   ]
  },
  {
   "cell_type": "code",
   "execution_count": 20,
   "id": "cf8aac70",
   "metadata": {},
   "outputs": [],
   "source": [
    "scatter_graph = figure(title = \"Scatter graph\")\n",
    "\n",
    "output_file(\"random_scatter.html\") #using the imported output_file() to save our interactive graph\n",
    " \n",
    "x = np.random.randn(30)\n",
    "y = np.random.randn(30)\n",
    " \n",
    "scatter_graph.scatter(x, y)\n",
    "\n",
    "show(scatter_graph)"
   ]
  },
  {
   "cell_type": "code",
   "execution_count": 21,
   "id": "93595ade",
   "metadata": {},
   "outputs": [
    {
     "data": {
      "text/html": [
       "<div>\n",
       "<style scoped>\n",
       "    .dataframe tbody tr th:only-of-type {\n",
       "        vertical-align: middle;\n",
       "    }\n",
       "\n",
       "    .dataframe tbody tr th {\n",
       "        vertical-align: top;\n",
       "    }\n",
       "\n",
       "    .dataframe thead th {\n",
       "        text-align: right;\n",
       "    }\n",
       "</style>\n",
       "<table border=\"1\" class=\"dataframe\">\n",
       "  <thead>\n",
       "    <tr style=\"text-align: right;\">\n",
       "      <th></th>\n",
       "      <th>Id</th>\n",
       "      <th>SepalLengthCm</th>\n",
       "      <th>SepalWidthCm</th>\n",
       "      <th>PetalLengthCm</th>\n",
       "      <th>PetalWidthCm</th>\n",
       "      <th>Species</th>\n",
       "    </tr>\n",
       "  </thead>\n",
       "  <tbody>\n",
       "    <tr>\n",
       "      <th>0</th>\n",
       "      <td>1</td>\n",
       "      <td>5.1</td>\n",
       "      <td>3.5</td>\n",
       "      <td>1.4</td>\n",
       "      <td>0.2</td>\n",
       "      <td>Iris-setosa</td>\n",
       "    </tr>\n",
       "    <tr>\n",
       "      <th>1</th>\n",
       "      <td>2</td>\n",
       "      <td>4.9</td>\n",
       "      <td>3.0</td>\n",
       "      <td>1.4</td>\n",
       "      <td>0.2</td>\n",
       "      <td>Iris-setosa</td>\n",
       "    </tr>\n",
       "    <tr>\n",
       "      <th>2</th>\n",
       "      <td>3</td>\n",
       "      <td>4.7</td>\n",
       "      <td>3.2</td>\n",
       "      <td>1.3</td>\n",
       "      <td>0.2</td>\n",
       "      <td>Iris-setosa</td>\n",
       "    </tr>\n",
       "    <tr>\n",
       "      <th>3</th>\n",
       "      <td>4</td>\n",
       "      <td>4.6</td>\n",
       "      <td>3.1</td>\n",
       "      <td>1.5</td>\n",
       "      <td>0.2</td>\n",
       "      <td>Iris-setosa</td>\n",
       "    </tr>\n",
       "    <tr>\n",
       "      <th>4</th>\n",
       "      <td>5</td>\n",
       "      <td>5.0</td>\n",
       "      <td>3.6</td>\n",
       "      <td>1.4</td>\n",
       "      <td>0.2</td>\n",
       "      <td>Iris-setosa</td>\n",
       "    </tr>\n",
       "  </tbody>\n",
       "</table>\n",
       "</div>"
      ],
      "text/plain": [
       "   Id  SepalLengthCm  SepalWidthCm  PetalLengthCm  PetalWidthCm      Species\n",
       "0   1            5.1           3.5            1.4           0.2  Iris-setosa\n",
       "1   2            4.9           3.0            1.4           0.2  Iris-setosa\n",
       "2   3            4.7           3.2            1.3           0.2  Iris-setosa\n",
       "3   4            4.6           3.1            1.5           0.2  Iris-setosa\n",
       "4   5            5.0           3.6            1.4           0.2  Iris-setosa"
      ]
     },
     "execution_count": 21,
     "metadata": {},
     "output_type": "execute_result"
    }
   ],
   "source": [
    "df = pd.read_csv('iris.csv', encoding='utf-8')\n",
    "df.head()"
   ]
  },
  {
   "cell_type": "code",
   "execution_count": 22,
   "id": "ec108709",
   "metadata": {},
   "outputs": [
    {
     "data": {
      "text/plain": [
       "array(['Iris-setosa', 'Iris-versicolor', 'Iris-virginica'], dtype=object)"
      ]
     },
     "execution_count": 22,
     "metadata": {},
     "output_type": "execute_result"
    }
   ],
   "source": [
    "#three kind of flowers\n",
    "df['Species'].unique()"
   ]
  },
  {
   "cell_type": "code",
   "execution_count": 23,
   "id": "55517f83",
   "metadata": {},
   "outputs": [],
   "source": [
    "graph = figure(title = \"Iris Visualization\")\n",
    "graph.sizing_mode = 'scale_height' #with this, the graph will be scaled according to screen size (in this case, for height)\n",
    "\n",
    "graph.xaxis.axis_label = \"Length (in cm)\"  #x axis labeling\n",
    "graph.yaxis.axis_label = \"Width (in cm)\" #y axis labeling\n",
    "\n",
    "#setting some variables which will be constant for the plot\n",
    "fill_alpha = 0.4 #setting the opacity\n",
    "size = 10 #marker size"
   ]
  },
  {
   "cell_type": "code",
   "execution_count": 24,
   "id": "f0f079a8",
   "metadata": {},
   "outputs": [
    {
     "data": {
      "text/html": [
       "<div style=\"display: table;\"><div style=\"display: table-row;\"><div style=\"display: table-cell;\"><b title=\"bokeh.models.renderers.GlyphRenderer\">GlyphRenderer</b>(</div><div style=\"display: table-cell;\">id&nbsp;=&nbsp;'2838', <span id=\"2854\" style=\"cursor: pointer;\">&hellip;)</span></div></div><div class=\"2853\" style=\"display: none;\"><div style=\"display: table-cell;\"></div><div style=\"display: table-cell;\">coordinates&nbsp;=&nbsp;None,</div></div><div class=\"2853\" style=\"display: none;\"><div style=\"display: table-cell;\"></div><div style=\"display: table-cell;\">data_source&nbsp;=&nbsp;ColumnDataSource(id='2834', ...),</div></div><div class=\"2853\" style=\"display: none;\"><div style=\"display: table-cell;\"></div><div style=\"display: table-cell;\">glyph&nbsp;=&nbsp;Scatter(id='2835', ...),</div></div><div class=\"2853\" style=\"display: none;\"><div style=\"display: table-cell;\"></div><div style=\"display: table-cell;\">group&nbsp;=&nbsp;None,</div></div><div class=\"2853\" style=\"display: none;\"><div style=\"display: table-cell;\"></div><div style=\"display: table-cell;\">hover_glyph&nbsp;=&nbsp;None,</div></div><div class=\"2853\" style=\"display: none;\"><div style=\"display: table-cell;\"></div><div style=\"display: table-cell;\">js_event_callbacks&nbsp;=&nbsp;{},</div></div><div class=\"2853\" style=\"display: none;\"><div style=\"display: table-cell;\"></div><div style=\"display: table-cell;\">js_property_callbacks&nbsp;=&nbsp;{},</div></div><div class=\"2853\" style=\"display: none;\"><div style=\"display: table-cell;\"></div><div style=\"display: table-cell;\">level&nbsp;=&nbsp;'glyph',</div></div><div class=\"2853\" style=\"display: none;\"><div style=\"display: table-cell;\"></div><div style=\"display: table-cell;\">muted&nbsp;=&nbsp;False,</div></div><div class=\"2853\" style=\"display: none;\"><div style=\"display: table-cell;\"></div><div style=\"display: table-cell;\">muted_glyph&nbsp;=&nbsp;Scatter(id='2837', ...),</div></div><div class=\"2853\" style=\"display: none;\"><div style=\"display: table-cell;\"></div><div style=\"display: table-cell;\">name&nbsp;=&nbsp;None,</div></div><div class=\"2853\" style=\"display: none;\"><div style=\"display: table-cell;\"></div><div style=\"display: table-cell;\">nonselection_glyph&nbsp;=&nbsp;Scatter(id='2836', ...),</div></div><div class=\"2853\" style=\"display: none;\"><div style=\"display: table-cell;\"></div><div style=\"display: table-cell;\">selection_glyph&nbsp;=&nbsp;'auto',</div></div><div class=\"2853\" style=\"display: none;\"><div style=\"display: table-cell;\"></div><div style=\"display: table-cell;\">subscribed_events&nbsp;=&nbsp;[],</div></div><div class=\"2853\" style=\"display: none;\"><div style=\"display: table-cell;\"></div><div style=\"display: table-cell;\">syncable&nbsp;=&nbsp;True,</div></div><div class=\"2853\" style=\"display: none;\"><div style=\"display: table-cell;\"></div><div style=\"display: table-cell;\">tags&nbsp;=&nbsp;[],</div></div><div class=\"2853\" style=\"display: none;\"><div style=\"display: table-cell;\"></div><div style=\"display: table-cell;\">view&nbsp;=&nbsp;CDSView(id='2839', ...),</div></div><div class=\"2853\" style=\"display: none;\"><div style=\"display: table-cell;\"></div><div style=\"display: table-cell;\">visible&nbsp;=&nbsp;True,</div></div><div class=\"2853\" style=\"display: none;\"><div style=\"display: table-cell;\"></div><div style=\"display: table-cell;\">x_range_name&nbsp;=&nbsp;'default',</div></div><div class=\"2853\" style=\"display: none;\"><div style=\"display: table-cell;\"></div><div style=\"display: table-cell;\">y_range_name&nbsp;=&nbsp;'default')</div></div></div>\n",
       "<script>\n",
       "(function() {\n",
       "  let expanded = false;\n",
       "  const ellipsis = document.getElementById(\"2854\");\n",
       "  ellipsis.addEventListener(\"click\", function() {\n",
       "    const rows = document.getElementsByClassName(\"2853\");\n",
       "    for (let i = 0; i < rows.length; i++) {\n",
       "      const el = rows[i];\n",
       "      el.style.display = expanded ? \"none\" : \"table-row\";\n",
       "    }\n",
       "    ellipsis.innerHTML = expanded ? \"&hellip;)\" : \"&lsaquo;&lsaquo;&lsaquo;\";\n",
       "    expanded = !expanded;\n",
       "  });\n",
       "})();\n",
       "</script>\n"
      ],
      "text/plain": [
       "GlyphRenderer(id='2838', ...)"
      ]
     },
     "execution_count": 24,
     "metadata": {},
     "output_type": "execute_result"
    }
   ],
   "source": [
    "x = df[df[\"Species\"] == \"Iris-setosa\"][\"PetalLengthCm\"] #get petal length from the dataframe, when species is Iris-setosa\n",
    "y = df[df[\"Species\"] == \"Iris-setosa\"][\"PetalWidthCm\"]\n",
    "#setting somme variables which are specific for this part of the graph (can be passed straight away to scatter())\n",
    "marker = \"circle_cross\" #setting marker type\n",
    "line_color = \"blue\" #slightly different colors for the lines and fill\n",
    "fill_color = \"lightblue\"\n",
    "legend_label = \"Iris-setosa petals\" #graph legend \n",
    "#scatter plot with using the variables we predefined\n",
    "graph.scatter(x, y,\n",
    "              marker = marker,\n",
    "              line_color = line_color,\n",
    "              fill_color = fill_color,\n",
    "              fill_alpha = fill_alpha,\n",
    "              size = size,\n",
    "              legend_label = legend_label)\n",
    "\n",
    "x = df[df[\"Species\"] == \"Iris-setosa\"][\"SepalLengthCm\"]\n",
    "y = df[df[\"Species\"] == \"Iris-setosa\"][\"SepalWidthCm\"]\n",
    "marker = \"square_cross\"\n",
    "line_color = \"blue\"\n",
    "fill_color = \"lightblue\"\n",
    "legend_label = \"Iris-setosa sepals\"\n",
    "graph.scatter(x, y,\n",
    "              marker = marker,\n",
    "              line_color = line_color,\n",
    "              fill_color = fill_color,\n",
    "              fill_alpha = fill_alpha,\n",
    "              size = size,\n",
    "              legend_label = legend_label)\n",
    "\n",
    "#GlyphRenderer(with some id) output in the notebook can be ignored"
   ]
  },
  {
   "cell_type": "code",
   "execution_count": 25,
   "id": "d5fb311b",
   "metadata": {},
   "outputs": [
    {
     "data": {
      "text/html": [
       "<div style=\"display: table;\"><div style=\"display: table-row;\"><div style=\"display: table-cell;\"><b title=\"bokeh.models.renderers.GlyphRenderer\">GlyphRenderer</b>(</div><div style=\"display: table-cell;\">id&nbsp;=&nbsp;'2880', <span id=\"2900\" style=\"cursor: pointer;\">&hellip;)</span></div></div><div class=\"2899\" style=\"display: none;\"><div style=\"display: table-cell;\"></div><div style=\"display: table-cell;\">coordinates&nbsp;=&nbsp;None,</div></div><div class=\"2899\" style=\"display: none;\"><div style=\"display: table-cell;\"></div><div style=\"display: table-cell;\">data_source&nbsp;=&nbsp;ColumnDataSource(id='2876', ...),</div></div><div class=\"2899\" style=\"display: none;\"><div style=\"display: table-cell;\"></div><div style=\"display: table-cell;\">glyph&nbsp;=&nbsp;Scatter(id='2877', ...),</div></div><div class=\"2899\" style=\"display: none;\"><div style=\"display: table-cell;\"></div><div style=\"display: table-cell;\">group&nbsp;=&nbsp;None,</div></div><div class=\"2899\" style=\"display: none;\"><div style=\"display: table-cell;\"></div><div style=\"display: table-cell;\">hover_glyph&nbsp;=&nbsp;None,</div></div><div class=\"2899\" style=\"display: none;\"><div style=\"display: table-cell;\"></div><div style=\"display: table-cell;\">js_event_callbacks&nbsp;=&nbsp;{},</div></div><div class=\"2899\" style=\"display: none;\"><div style=\"display: table-cell;\"></div><div style=\"display: table-cell;\">js_property_callbacks&nbsp;=&nbsp;{},</div></div><div class=\"2899\" style=\"display: none;\"><div style=\"display: table-cell;\"></div><div style=\"display: table-cell;\">level&nbsp;=&nbsp;'glyph',</div></div><div class=\"2899\" style=\"display: none;\"><div style=\"display: table-cell;\"></div><div style=\"display: table-cell;\">muted&nbsp;=&nbsp;False,</div></div><div class=\"2899\" style=\"display: none;\"><div style=\"display: table-cell;\"></div><div style=\"display: table-cell;\">muted_glyph&nbsp;=&nbsp;Scatter(id='2879', ...),</div></div><div class=\"2899\" style=\"display: none;\"><div style=\"display: table-cell;\"></div><div style=\"display: table-cell;\">name&nbsp;=&nbsp;None,</div></div><div class=\"2899\" style=\"display: none;\"><div style=\"display: table-cell;\"></div><div style=\"display: table-cell;\">nonselection_glyph&nbsp;=&nbsp;Scatter(id='2878', ...),</div></div><div class=\"2899\" style=\"display: none;\"><div style=\"display: table-cell;\"></div><div style=\"display: table-cell;\">selection_glyph&nbsp;=&nbsp;'auto',</div></div><div class=\"2899\" style=\"display: none;\"><div style=\"display: table-cell;\"></div><div style=\"display: table-cell;\">subscribed_events&nbsp;=&nbsp;[],</div></div><div class=\"2899\" style=\"display: none;\"><div style=\"display: table-cell;\"></div><div style=\"display: table-cell;\">syncable&nbsp;=&nbsp;True,</div></div><div class=\"2899\" style=\"display: none;\"><div style=\"display: table-cell;\"></div><div style=\"display: table-cell;\">tags&nbsp;=&nbsp;[],</div></div><div class=\"2899\" style=\"display: none;\"><div style=\"display: table-cell;\"></div><div style=\"display: table-cell;\">view&nbsp;=&nbsp;CDSView(id='2881', ...),</div></div><div class=\"2899\" style=\"display: none;\"><div style=\"display: table-cell;\"></div><div style=\"display: table-cell;\">visible&nbsp;=&nbsp;True,</div></div><div class=\"2899\" style=\"display: none;\"><div style=\"display: table-cell;\"></div><div style=\"display: table-cell;\">x_range_name&nbsp;=&nbsp;'default',</div></div><div class=\"2899\" style=\"display: none;\"><div style=\"display: table-cell;\"></div><div style=\"display: table-cell;\">y_range_name&nbsp;=&nbsp;'default')</div></div></div>\n",
       "<script>\n",
       "(function() {\n",
       "  let expanded = false;\n",
       "  const ellipsis = document.getElementById(\"2900\");\n",
       "  ellipsis.addEventListener(\"click\", function() {\n",
       "    const rows = document.getElementsByClassName(\"2899\");\n",
       "    for (let i = 0; i < rows.length; i++) {\n",
       "      const el = rows[i];\n",
       "      el.style.display = expanded ? \"none\" : \"table-row\";\n",
       "    }\n",
       "    ellipsis.innerHTML = expanded ? \"&hellip;)\" : \"&lsaquo;&lsaquo;&lsaquo;\";\n",
       "    expanded = !expanded;\n",
       "  });\n",
       "})();\n",
       "</script>\n"
      ],
      "text/plain": [
       "GlyphRenderer(id='2880', ...)"
      ]
     },
     "execution_count": 25,
     "metadata": {},
     "output_type": "execute_result"
    }
   ],
   "source": [
    "x = df[df[\"Species\"] == \"Iris-versicolor\"][\"PetalLengthCm\"]\n",
    "y = df[df[\"Species\"] == \"Iris-versicolor\"][\"PetalWidthCm\"]\n",
    "marker = \"circle_cross\"\n",
    "line_color = \"green\"\n",
    "fill_color = \"lightgreen\"\n",
    "legend_label = \"Iris-versicolor petals\"\n",
    "graph.scatter(x, y,\n",
    "              marker = marker,\n",
    "              line_color = line_color,\n",
    "              fill_color = fill_color,\n",
    "              fill_alpha = fill_alpha,\n",
    "              size = size,\n",
    "              legend_label = legend_label)\n",
    "  \n",
    "x = df[df[\"Species\"] == \"Iris-versicolor\"][\"SepalLengthCm\"]\n",
    "y = df[df[\"Species\"] == \"Iris-versicolor\"][\"SepalWidthCm\"]\n",
    "marker = \"square_cross\"\n",
    "line_color = \"green\"\n",
    "fill_color = \"lightgreen\"\n",
    "legend_label = \"Iris-versicolor sepals\"\n",
    "graph.scatter(x, y,\n",
    "              marker = marker,\n",
    "              line_color = line_color,\n",
    "              fill_color = fill_color,\n",
    "              fill_alpha = fill_alpha,\n",
    "              size = size,\n",
    "              legend_label = legend_label)"
   ]
  },
  {
   "cell_type": "code",
   "execution_count": 26,
   "id": "68e99dc4",
   "metadata": {},
   "outputs": [
    {
     "data": {
      "text/html": [
       "<div style=\"display: table;\"><div style=\"display: table-row;\"><div style=\"display: table-cell;\"><b title=\"bokeh.models.renderers.GlyphRenderer\">GlyphRenderer</b>(</div><div style=\"display: table-cell;\">id&nbsp;=&nbsp;'2930', <span id=\"2954\" style=\"cursor: pointer;\">&hellip;)</span></div></div><div class=\"2953\" style=\"display: none;\"><div style=\"display: table-cell;\"></div><div style=\"display: table-cell;\">coordinates&nbsp;=&nbsp;None,</div></div><div class=\"2953\" style=\"display: none;\"><div style=\"display: table-cell;\"></div><div style=\"display: table-cell;\">data_source&nbsp;=&nbsp;ColumnDataSource(id='2926', ...),</div></div><div class=\"2953\" style=\"display: none;\"><div style=\"display: table-cell;\"></div><div style=\"display: table-cell;\">glyph&nbsp;=&nbsp;Scatter(id='2927', ...),</div></div><div class=\"2953\" style=\"display: none;\"><div style=\"display: table-cell;\"></div><div style=\"display: table-cell;\">group&nbsp;=&nbsp;None,</div></div><div class=\"2953\" style=\"display: none;\"><div style=\"display: table-cell;\"></div><div style=\"display: table-cell;\">hover_glyph&nbsp;=&nbsp;None,</div></div><div class=\"2953\" style=\"display: none;\"><div style=\"display: table-cell;\"></div><div style=\"display: table-cell;\">js_event_callbacks&nbsp;=&nbsp;{},</div></div><div class=\"2953\" style=\"display: none;\"><div style=\"display: table-cell;\"></div><div style=\"display: table-cell;\">js_property_callbacks&nbsp;=&nbsp;{},</div></div><div class=\"2953\" style=\"display: none;\"><div style=\"display: table-cell;\"></div><div style=\"display: table-cell;\">level&nbsp;=&nbsp;'glyph',</div></div><div class=\"2953\" style=\"display: none;\"><div style=\"display: table-cell;\"></div><div style=\"display: table-cell;\">muted&nbsp;=&nbsp;False,</div></div><div class=\"2953\" style=\"display: none;\"><div style=\"display: table-cell;\"></div><div style=\"display: table-cell;\">muted_glyph&nbsp;=&nbsp;Scatter(id='2929', ...),</div></div><div class=\"2953\" style=\"display: none;\"><div style=\"display: table-cell;\"></div><div style=\"display: table-cell;\">name&nbsp;=&nbsp;None,</div></div><div class=\"2953\" style=\"display: none;\"><div style=\"display: table-cell;\"></div><div style=\"display: table-cell;\">nonselection_glyph&nbsp;=&nbsp;Scatter(id='2928', ...),</div></div><div class=\"2953\" style=\"display: none;\"><div style=\"display: table-cell;\"></div><div style=\"display: table-cell;\">selection_glyph&nbsp;=&nbsp;'auto',</div></div><div class=\"2953\" style=\"display: none;\"><div style=\"display: table-cell;\"></div><div style=\"display: table-cell;\">subscribed_events&nbsp;=&nbsp;[],</div></div><div class=\"2953\" style=\"display: none;\"><div style=\"display: table-cell;\"></div><div style=\"display: table-cell;\">syncable&nbsp;=&nbsp;True,</div></div><div class=\"2953\" style=\"display: none;\"><div style=\"display: table-cell;\"></div><div style=\"display: table-cell;\">tags&nbsp;=&nbsp;[],</div></div><div class=\"2953\" style=\"display: none;\"><div style=\"display: table-cell;\"></div><div style=\"display: table-cell;\">view&nbsp;=&nbsp;CDSView(id='2931', ...),</div></div><div class=\"2953\" style=\"display: none;\"><div style=\"display: table-cell;\"></div><div style=\"display: table-cell;\">visible&nbsp;=&nbsp;True,</div></div><div class=\"2953\" style=\"display: none;\"><div style=\"display: table-cell;\"></div><div style=\"display: table-cell;\">x_range_name&nbsp;=&nbsp;'default',</div></div><div class=\"2953\" style=\"display: none;\"><div style=\"display: table-cell;\"></div><div style=\"display: table-cell;\">y_range_name&nbsp;=&nbsp;'default')</div></div></div>\n",
       "<script>\n",
       "(function() {\n",
       "  let expanded = false;\n",
       "  const ellipsis = document.getElementById(\"2954\");\n",
       "  ellipsis.addEventListener(\"click\", function() {\n",
       "    const rows = document.getElementsByClassName(\"2953\");\n",
       "    for (let i = 0; i < rows.length; i++) {\n",
       "      const el = rows[i];\n",
       "      el.style.display = expanded ? \"none\" : \"table-row\";\n",
       "    }\n",
       "    ellipsis.innerHTML = expanded ? \"&hellip;)\" : \"&lsaquo;&lsaquo;&lsaquo;\";\n",
       "    expanded = !expanded;\n",
       "  });\n",
       "})();\n",
       "</script>\n"
      ],
      "text/plain": [
       "GlyphRenderer(id='2930', ...)"
      ]
     },
     "execution_count": 26,
     "metadata": {},
     "output_type": "execute_result"
    }
   ],
   "source": [
    "x = df[df[\"Species\"] == \"Iris-virginica\"][\"PetalLengthCm\"]\n",
    "y = df[df[\"Species\"] == \"Iris-virginica\"][\"PetalWidthCm\"]\n",
    "marker = \"circle_cross\"\n",
    "line_color = \"red\"\n",
    "fill_color = \"lightcoral\"\n",
    "legend_label = \"Iris-virginica petals\"\n",
    "graph.scatter(x, y,\n",
    "              marker = marker,\n",
    "              line_color = line_color,\n",
    "              fill_color = fill_color,\n",
    "              fill_alpha = fill_alpha,\n",
    "              size = size,\n",
    "              legend_label = legend_label)\n",
    "  \n",
    "x = df[df[\"Species\"] == \"Iris-virginica\"][\"SepalLengthCm\"]\n",
    "y = df[df[\"Species\"] == \"Iris-virginica\"][\"SepalWidthCm\"]\n",
    "marker = \"square_cross\"\n",
    "line_color = \"red\"\n",
    "fill_color = \"lightcoral\"\n",
    "legend_label = \"Iris-virginica sepals\"\n",
    "graph.scatter(x, y,\n",
    "              marker = marker,\n",
    "              line_color = line_color,\n",
    "              fill_color = fill_color,\n",
    "              fill_alpha = fill_alpha,\n",
    "              size = size,\n",
    "              legend_label = legend_label)"
   ]
  },
  {
   "cell_type": "code",
   "execution_count": 27,
   "id": "338ea8b0",
   "metadata": {},
   "outputs": [],
   "source": [
    "graph.legend.location = \"top_left\"\n",
    "show(graph)"
   ]
  },
  {
   "cell_type": "code",
   "execution_count": 28,
   "id": "7d7d84db",
   "metadata": {},
   "outputs": [],
   "source": [
    "from bokeh.layouts import layout\n",
    "from bokeh.models import RangeSlider"
   ]
  },
  {
   "cell_type": "code",
   "execution_count": 30,
   "id": "928464cb",
   "metadata": {},
   "outputs": [],
   "source": [
    "x = np.arange(14)\n",
    "y = []\n",
    "for i in x:\n",
    "    y.append(i**2)\n",
    "\n",
    "graph = figure(x_range=(1, 9), plot_width=700, plot_height=500) #explicity defining the size of the graph\n",
    "points = graph.circle(x=x, y=y, size=35, fill_color=\"red\") #creating circles \n",
    "  \n",
    "range_slider = RangeSlider(\n",
    "    title=\"Set the range of the x-axis\", #title of the slider\n",
    "    start=0, #start at 0\n",
    "    end=21, #max is 14\n",
    "    step=1, #stepsize is 1\n",
    "    value=(graph.x_range.start, graph.x_range.end), #default position\n",
    ")"
   ]
  },
  {
   "cell_type": "code",
   "execution_count": 31,
   "id": "305bb309",
   "metadata": {},
   "outputs": [],
   "source": [
    "#add two sliders so we can define a range\n",
    "range_slider.js_link(\"value\", graph.x_range, \"start\", attr_selector=0) #first, indicating the start\n",
    "range_slider.js_link(\"value\", graph.x_range, \"end\", attr_selector=1) #second, indicating the end\n",
    "  \n",
    "our_layout = layout([range_slider], [graph]) #to show this, we need to create a specific layout (slider+graph)\n",
    "show(our_layout)"
   ]
  },
  {
   "cell_type": "code",
   "execution_count": null,
   "id": "47530044",
   "metadata": {},
   "outputs": [],
   "source": []
  }
 ],
 "metadata": {
  "kernelspec": {
   "display_name": "Python 3 (ipykernel)",
   "language": "python",
   "name": "python3"
  },
  "language_info": {
   "codemirror_mode": {
    "name": "ipython",
    "version": 3
   },
   "file_extension": ".py",
   "mimetype": "text/x-python",
   "name": "python",
   "nbconvert_exporter": "python",
   "pygments_lexer": "ipython3",
   "version": "3.9.7"
  }
 },
 "nbformat": 4,
 "nbformat_minor": 5
}
