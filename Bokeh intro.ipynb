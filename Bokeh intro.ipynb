{
 "cells": [
  {
   "cell_type": "markdown",
   "id": "8622d9fe",
   "metadata": {},
   "source": [
    "# Introduction to interactive visualizations with Bokeh"
   ]
  },
  {
   "cell_type": "code",
   "execution_count": null,
   "id": "0178ac6e",
   "metadata": {},
   "outputs": [],
   "source": [
    "#remember that you can import only what you will need from a library/package\n",
    "from bokeh.plotting import figure, output_file, show \n",
    "import numpy as np\n",
    "import pandas as pd"
   ]
  },
  {
   "cell_type": "code",
   "execution_count": null,
   "id": "3c26bbc7",
   "metadata": {},
   "outputs": [],
   "source": [
    "line_graph = figure(title=\"Line graph\") #using the imported figure function (bokeh.plotting.figure)\n",
    " \n",
    "x = [1,2,3,4,5]\n",
    "y = [2,4,8,10,12]\n",
    " \n",
    "line_graph.line(x, x, legend_label=\"Line 1\") #first line\n",
    "line_graph.line(y, x, legend_label=\"Line 2\", line_color=\"green\") #second line, but changing the color\n",
    " \n",
    "line_graph.legend.title = \"Title of the legend\" \n",
    "line_graph.legend.location =\"bottom_right\" #specifying the location of the legend\n",
    " \n",
    "show(line_graph) #using the imported show(), the graph should pop up in a new window in your browser"
   ]
  },
  {
   "cell_type": "code",
   "execution_count": null,
   "id": "2c99bab2",
   "metadata": {},
   "outputs": [],
   "source": [
    "bar_graph = figure(title = \"Bar graph\") #same sintax as before\n",
    "\n",
    "x = np.array([1,2,3,4,5]) \n",
    "y = np.array([1.5,6,3,1.3,1.4]) #inputs don't have to be lists, you can use arrays as well\n",
    "\n",
    " \n",
    "our_width = 0.75 #defining the bar thickness in a variable  \n",
    "bar_graph.vbar(x, top = y, width = our_width)\n",
    " \n",
    "show(bar_graph)"
   ]
  },
  {
   "cell_type": "code",
   "execution_count": null,
   "id": "cf8aac70",
   "metadata": {},
   "outputs": [],
   "source": [
    "scatter_graph = figure(title = \"Scatter graph\")\n",
    "\n",
    "output_file(\"random_scatter.html\") #using the imported output_file() to save our interactive graph\n",
    " \n",
    "x = np.random.randn(30)\n",
    "y = np.random.randn(30)\n",
    " \n",
    "scatter_graph.scatter(x, y)\n",
    "\n",
    "show(scatter_graph)"
   ]
  },
  {
   "cell_type": "code",
   "execution_count": null,
   "id": "93595ade",
   "metadata": {},
   "outputs": [],
   "source": [
    "df = pd.read_csv('iris.csv', encoding='utf-8')\n",
    "df.head()"
   ]
  },
  {
   "cell_type": "code",
   "execution_count": null,
   "id": "ec108709",
   "metadata": {},
   "outputs": [],
   "source": [
    "#three kind of flowers\n",
    "df['Species'].unique()"
   ]
  },
  {
   "cell_type": "code",
   "execution_count": null,
   "id": "55517f83",
   "metadata": {},
   "outputs": [],
   "source": [
    "graph = figure(title = \"Iris Visualization\")\n",
    "graph.sizing_mode = 'scale_height' #with this, the graph will be scaled according to screen size (in this case, for height)\n",
    "\n",
    "graph.xaxis.axis_label = \"Length (in cm)\"  #x axis labeling\n",
    "graph.yaxis.axis_label = \"Width (in cm)\" #y axis labeling\n",
    "\n",
    "#setting some variables which will be constant for the plot\n",
    "fill_alpha = 0.4 #setting the opacity\n",
    "size = 10 #marker size"
   ]
  },
  {
   "cell_type": "code",
   "execution_count": null,
   "id": "f0f079a8",
   "metadata": {},
   "outputs": [],
   "source": [
    "x = df[df[\"Species\"] == \"Iris-setosa\"][\"PetalLengthCm\"] #get petal length from the dataframe, when species is Iris-setosa\n",
    "y = df[df[\"Species\"] == \"Iris-setosa\"][\"PetalWidthCm\"]\n",
    "#setting somme variables which are specific for this part of the graph (can be passed straight away to scatter())\n",
    "marker = \"circle_cross\" #setting marker type\n",
    "line_color = \"blue\" #slightly different colors for the lines and fill\n",
    "fill_color = \"lightblue\"\n",
    "legend_label = \"Iris-setosa petals\" #graph legend \n",
    "#scatter plot with using the variables we predefined\n",
    "graph.scatter(x, y,\n",
    "              marker = marker,\n",
    "              line_color = line_color,\n",
    "              fill_color = fill_color,\n",
    "              fill_alpha = fill_alpha,\n",
    "              size = size,\n",
    "              legend_label = legend_label)\n",
    "\n",
    "x = df[df[\"Species\"] == \"Iris-setosa\"][\"SepalLengthCm\"]\n",
    "y = df[df[\"Species\"] == \"Iris-setosa\"][\"SepalWidthCm\"]\n",
    "marker = \"square_cross\"\n",
    "line_color = \"blue\"\n",
    "fill_color = \"lightblue\"\n",
    "legend_label = \"Iris-setosa sepals\"\n",
    "graph.scatter(x, y,\n",
    "              marker = marker,\n",
    "              line_color = line_color,\n",
    "              fill_color = fill_color,\n",
    "              fill_alpha = fill_alpha,\n",
    "              size = size,\n",
    "              legend_label = legend_label)\n",
    "\n",
    "#GlyphRenderer(with some id) output in the notebook can be ignored"
   ]
  },
  {
   "cell_type": "code",
   "execution_count": null,
   "id": "d5fb311b",
   "metadata": {},
   "outputs": [],
   "source": [
    "x = df[df[\"Species\"] == \"Iris-versicolor\"][\"PetalLengthCm\"]\n",
    "y = df[df[\"Species\"] == \"Iris-versicolor\"][\"PetalWidthCm\"]\n",
    "marker = \"circle_cross\"\n",
    "line_color = \"green\"\n",
    "fill_color = \"lightgreen\"\n",
    "legend_label = \"Iris-versicolor petals\"\n",
    "graph.scatter(x, y,\n",
    "              marker = marker,\n",
    "              line_color = line_color,\n",
    "              fill_color = fill_color,\n",
    "              fill_alpha = fill_alpha,\n",
    "              size = size,\n",
    "              legend_label = legend_label)\n",
    "  \n",
    "x = df[df[\"Species\"] == \"Iris-versicolor\"][\"SepalLengthCm\"]\n",
    "y = df[df[\"Species\"] == \"Iris-versicolor\"][\"SepalWidthCm\"]\n",
    "marker = \"square_cross\"\n",
    "line_color = \"green\"\n",
    "fill_color = \"lightgreen\"\n",
    "legend_label = \"Iris-versicolor sepals\"\n",
    "graph.scatter(x, y,\n",
    "              marker = marker,\n",
    "              line_color = line_color,\n",
    "              fill_color = fill_color,\n",
    "              fill_alpha = fill_alpha,\n",
    "              size = size,\n",
    "              legend_label = legend_label)"
   ]
  },
  {
   "cell_type": "code",
   "execution_count": null,
   "id": "68e99dc4",
   "metadata": {},
   "outputs": [],
   "source": [
    "x = df[df[\"Species\"] == \"Iris-virginica\"][\"PetalLengthCm\"]\n",
    "y = df[df[\"Species\"] == \"Iris-virginica\"][\"PetalWidthCm\"]\n",
    "marker = \"circle_cross\"\n",
    "line_color = \"red\"\n",
    "fill_color = \"lightcoral\"\n",
    "legend_label = \"Iris-virginica petals\"\n",
    "graph.scatter(x, y,\n",
    "              marker = marker,\n",
    "              line_color = line_color,\n",
    "              fill_color = fill_color,\n",
    "              fill_alpha = fill_alpha,\n",
    "              size = size,\n",
    "              legend_label = legend_label)\n",
    "  \n",
    "x = df[df[\"Species\"] == \"Iris-virginica\"][\"SepalLengthCm\"]\n",
    "y = df[df[\"Species\"] == \"Iris-virginica\"][\"SepalWidthCm\"]\n",
    "marker = \"square_cross\"\n",
    "line_color = \"red\"\n",
    "fill_color = \"lightcoral\"\n",
    "legend_label = \"Iris-virginica sepals\"\n",
    "graph.scatter(x, y,\n",
    "              marker = marker,\n",
    "              line_color = line_color,\n",
    "              fill_color = fill_color,\n",
    "              fill_alpha = fill_alpha,\n",
    "              size = size,\n",
    "              legend_label = legend_label)"
   ]
  },
  {
   "cell_type": "code",
   "execution_count": null,
   "id": "338ea8b0",
   "metadata": {},
   "outputs": [],
   "source": [
    "graph.legend.location = \"top_left\"\n",
    "show(graph)"
   ]
  },
  {
   "cell_type": "markdown",
   "id": "2f071283",
   "metadata": {},
   "source": [
    "You can add various interactive elements, \"widgets\" to your graphs. The next example shows a graph with a range slider. Check the documentation to see other easy examples with widgests: https://docs.bokeh.org/en/latest/docs/first_steps/first_steps_9.html"
   ]
  },
  {
   "cell_type": "code",
   "execution_count": null,
   "id": "7d7d84db",
   "metadata": {},
   "outputs": [],
   "source": [
    "from bokeh.layouts import layout\n",
    "from bokeh.models import RangeSlider"
   ]
  },
  {
   "cell_type": "code",
   "execution_count": null,
   "id": "928464cb",
   "metadata": {},
   "outputs": [],
   "source": [
    "x = np.arange(14)\n",
    "y = []\n",
    "for i in x:\n",
    "    y.append(i**2)\n",
    "\n",
    "graph = figure(x_range=(1, 9), plot_width=700, plot_height=500) #explicity defining the size of the graph\n",
    "points = graph.circle(x=x, y=y, size=35, fill_color=\"red\") #creating circles \n",
    "  \n",
    "range_slider = RangeSlider(\n",
    "    title=\"Set the range of the x-axis\", #title of the slider\n",
    "    start=0, #start at 0\n",
    "    end=14, #max is 14\n",
    "    step=1, #stepsize is 1\n",
    "    value=(graph.x_range.start, graph.x_range.end), #default position\n",
    ")"
   ]
  },
  {
   "cell_type": "code",
   "execution_count": null,
   "id": "305bb309",
   "metadata": {},
   "outputs": [],
   "source": [
    "#add two sliders so we can define a range\n",
    "range_slider.js_link(\"value\", graph.x_range, \"start\", attr_selector=0) #first, indicating the start\n",
    "range_slider.js_link(\"value\", graph.x_range, \"end\", attr_selector=1) #second, indicating the end\n",
    "  \n",
    "our_layout = layout([range_slider], [graph]) #to show this, we need to create a specific layout (slider+graph)\n",
    "show(our_layout)"
   ]
  }
 ],
 "metadata": {
  "kernelspec": {
   "display_name": "Python 3.9.7 ('base')",
   "language": "python",
   "name": "python3"
  },
  "language_info": {
   "codemirror_mode": {
    "name": "ipython",
    "version": 3
   },
   "file_extension": ".py",
   "mimetype": "text/x-python",
   "name": "python",
   "nbconvert_exporter": "python",
   "pygments_lexer": "ipython3",
   "version": "3.9.7"
  },
  "vscode": {
   "interpreter": {
    "hash": "40d3a090f54c6569ab1632332b64b2c03c39dcf918b08424e98f38b5ae0af88f"
   }
  }
 },
 "nbformat": 4,
 "nbformat_minor": 5
}
