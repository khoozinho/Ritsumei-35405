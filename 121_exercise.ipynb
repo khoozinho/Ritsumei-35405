{
 "cells": [
  {
   "cell_type": "markdown",
   "id": "a2468381",
   "metadata": {},
   "source": [
    "Follow the comments and conduct exploratory analysis on the Iris dataset!"
   ]
  },
  {
   "cell_type": "markdown",
   "id": "2699e94c",
   "metadata": {},
   "source": [
    "In this Markdown cell, write your Name and Student ID"
   ]
  },
  {
   "cell_type": "code",
   "execution_count": null,
   "id": "1fd64abc",
   "metadata": {},
   "outputs": [],
   "source": [
    "import pandas as pd\n",
    "import numpy as np\n",
    "import matplotlib.pyplot as plt"
   ]
  },
  {
   "cell_type": "code",
   "execution_count": null,
   "id": "8844a73d",
   "metadata": {},
   "outputs": [],
   "source": [
    "#read in the dataset (iris.csv) to a dataframe\n",
    "df = "
   ]
  },
  {
   "cell_type": "code",
   "execution_count": null,
   "id": "3219c088",
   "metadata": {},
   "outputs": [],
   "source": [
    "#check the beginning of the data\n",
    "df.head()"
   ]
  },
  {
   "cell_type": "code",
   "execution_count": null,
   "id": "67a11fb9",
   "metadata": {},
   "outputs": [],
   "source": [
    "#remove the \"Id\" column\n"
   ]
  },
  {
   "cell_type": "code",
   "execution_count": null,
   "id": "c07f406b",
   "metadata": {},
   "outputs": [],
   "source": [
    "#check if it's really removed (checking the beginning of the data again)\n",
    "df.head()"
   ]
  },
  {
   "cell_type": "code",
   "execution_count": null,
   "id": "9da2cfa9",
   "metadata": {},
   "outputs": [],
   "source": [
    "#show column-wise statistics including average, standard deviation, minimum, maximum etc.\n"
   ]
  },
  {
   "cell_type": "code",
   "execution_count": null,
   "id": "7fcd21bb",
   "metadata": {},
   "outputs": [],
   "source": [
    "#check how many unique Iris species are there in the dataset\n",
    "#tip: use .value_counts() on the appropriate column\n"
   ]
  },
  {
   "cell_type": "code",
   "execution_count": null,
   "id": "74c54f91",
   "metadata": {},
   "outputs": [],
   "source": [
    "#check if there any null (missing) values in the dataset\n",
    "#tip: several ways to do tis, but the combination of .isnull() and .sum() provides an easy way to do this\n"
   ]
  },
  {
   "cell_type": "code",
   "execution_count": null,
   "id": "cf7fb2c2",
   "metadata": {},
   "outputs": [],
   "source": [
    "print('Length of the dataset:')\n",
    "len(df)"
   ]
  },
  {
   "cell_type": "code",
   "execution_count": null,
   "id": "f37b964f",
   "metadata": {},
   "outputs": [],
   "source": [
    "#remove duplicates from the dataset, using drop_duplicates\n"
   ]
  },
  {
   "cell_type": "code",
   "execution_count": null,
   "id": "8077351b",
   "metadata": {},
   "outputs": [],
   "source": [
    "print('Length of the dataset after removing duplicates:')\n",
    "len(df)"
   ]
  },
  {
   "cell_type": "markdown",
   "id": "40e0bb30",
   "metadata": {},
   "source": [
    "In this Markdown cell, describe how did you make the scatter plot below!"
   ]
  },
  {
   "cell_type": "code",
   "execution_count": null,
   "id": "32d4caea",
   "metadata": {},
   "outputs": [],
   "source": [
    "#create a scatter plot, where x=SepalLengthCm, and y=SepalWidthCm\n",
    "#size of the marker should be set to 20\n",
    "#label x axis as 'Sepal Length' and y axis as 'Sepal Width'\n",
    "#the title of the plot should be 'Sepal sizes of Iris'\n",
    "#save the figure in a png format at 300 dpi\n"
   ]
  },
  {
   "cell_type": "code",
   "execution_count": null,
   "id": "c27ae240",
   "metadata": {},
   "outputs": [],
   "source": [
    "#select the subset of the data, where the species is Iris-virginica, and name the new datafram iv_df\n",
    "#tip: this means selecting rows in DataFrame based on a condition\n",
    "iv_df ="
   ]
  },
  {
   "cell_type": "code",
   "execution_count": null,
   "id": "ecf8c1bf",
   "metadata": {},
   "outputs": [],
   "source": [
    "#check the beginning new dataframe\n",
    "iv_df.head()"
   ]
  },
  {
   "cell_type": "code",
   "execution_count": null,
   "id": "1655dfdc",
   "metadata": {},
   "outputs": [],
   "source": [
    "#use .unique on the Species column to show that every row is Iris-virginica \n"
   ]
  },
  {
   "cell_type": "code",
   "execution_count": null,
   "id": "475a559d",
   "metadata": {},
   "outputs": [],
   "source": [
    "#make lists of the 'PetalLengthCm', 'PetalWidthCm', 'SepalLengthCm', and 'SepalWidthCm' columns of iv_df\n",
    "#use .tolist() on the appropriate columns\n"
   ]
  },
  {
   "cell_type": "markdown",
   "id": "e2fcc6fc",
   "metadata": {},
   "source": [
    "In this Markdown cell, describe how did you make the plot below!"
   ]
  },
  {
   "cell_type": "code",
   "execution_count": null,
   "id": "fa3de6b2",
   "metadata": {},
   "outputs": [],
   "source": [
    "plt.figure(constrained_layout=True) #don't change this line, this is just to make sure everything is readable\n",
    "#make a 1x2 grid with two subplots that has two scatter plots (at position 1 and 2)\n",
    "#for the first scatter plot, use petal_length and petal_width (the lists you created earlier)\n",
    "#for the second scatter plot, use sepal_length and sepal_width (the lists you created earlier)\n",
    "#labels for the axes should correspond to their data (e.g., x axis label for the first subplot can be \"petal length\")\n",
    "#the (common) title for the subplots should be 'Petal and sepal sizes of Iris-Virginica'\n"
   ]
  },
  {
   "cell_type": "code",
   "execution_count": null,
   "id": "3454771d",
   "metadata": {},
   "outputs": [],
   "source": [
    "#save the iv_df as a new csv file, without the indices\n",
    "#tip: when saving a dataframe, you can specify with a Boolean value if you don't want to save the indices\n"
   ]
  }
 ],
 "metadata": {
  "kernelspec": {
   "display_name": "Python 3 (ipykernel)",
   "language": "python",
   "name": "python3"
  },
  "language_info": {
   "codemirror_mode": {
    "name": "ipython",
    "version": 3
   },
   "file_extension": ".py",
   "mimetype": "text/x-python",
   "name": "python",
   "nbconvert_exporter": "python",
   "pygments_lexer": "ipython3",
   "version": "3.9.7"
  }
 },
 "nbformat": 4,
 "nbformat_minor": 5
}
